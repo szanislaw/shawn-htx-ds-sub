{
 "cells": [
  {
   "cell_type": "markdown",
   "metadata": {},
   "source": [
    "# Task 5a: Hotword Detection: Extraction of .mp3 files\n",
    "### Importing Required Libraries\n",
    "\n",
    "Necessary libraries for the notebook are imported, filepaths are defined, and hot words that are supposed to be detected are stored in a list."
   ]
  },
  {
   "cell_type": "code",
   "execution_count": null,
   "metadata": {},
   "outputs": [],
   "source": [
    "# Install required libraries\n",
    "%pip install pandas transformers torch"
   ]
  },
  {
   "cell_type": "code",
   "execution_count": 12,
   "metadata": {},
   "outputs": [],
   "source": [
    "import os\n",
    "import pandas as pd\n",
    "from transformers import AutoTokenizer, AutoModel\n",
    "import torch"
   ]
  },
  {
   "cell_type": "code",
   "execution_count": 13,
   "metadata": {},
   "outputs": [],
   "source": [
    "# Load transcriptions from cv-valid-dev.csv\n",
    "cv_valid_dev_path = \"../common-voice/cv-valid-dev.csv\"\n",
    "df = pd.read_csv(cv_valid_dev_path)"
   ]
  },
  {
   "cell_type": "code",
   "execution_count": 14,
   "metadata": {},
   "outputs": [],
   "source": [
    "# Define hot words to detect\n",
    "hot_words = [\"be careful\", \"destroy\", \"stranger\"]"
   ]
  },
  {
   "cell_type": "markdown",
   "metadata": {},
   "source": [
    "### Defining Hot Words and Detect Their Presence in Transcriptions\n",
    "\n",
    "The `detect_hot_words` function identifies transcriptions containing specific hot words.\n",
    "\n",
    "- **Inputs**:\n",
    "  - `transcriptions`: A list of transcription strings to be analyzed.\n",
    "  - `hot_words`: A list of hot words to detect within the transcriptions.\n",
    "\n",
    "- **Process**:\n",
    "  - Iterates through the transcriptions.\n",
    "  - Checks each transcription for the presence of any of the hot words (case-insensitive).\n",
    "  - If a hot word is detected, the corresponding index (or filename) is added to the `detected_files` list.\n",
    "\n",
    "- **Output**:\n",
    "  - Returns a list of indices (or filenames) of transcriptions containing the hot words.\n",
    "\n",
    "This function enables quick identification of which files or phrases contain the specified hot words.\n"
   ]
  },
  {
   "cell_type": "code",
   "execution_count": 15,
   "metadata": {},
   "outputs": [],
   "source": [
    "def detect_hot_words(transcriptions, hot_words):\n",
    "    detected_files = []\n",
    "    for idx, transcription in enumerate(transcriptions):\n",
    "        for hot_word in hot_words:\n",
    "            if hot_word in transcription.lower():\n",
    "                detected_files.append(idx)  # Add index or filename here\n",
    "                break\n",
    "    return detected_files"
   ]
  },
  {
   "cell_type": "markdown",
   "metadata": {},
   "source": [
    "### Detecting Hot Words in Text\n",
    "\n",
    "The `is_hot_word` function initializes the `detected_filenames` list. It checks if any of the specified hot words are present in a given text and returns a Boolean value (True or False) depending if the hot word is found by iterating through the list of hot words to check for their presence in the input text.\n",
    "\n",
    "An empty list is initialized to store filenames corresponding to transcriptions that contain the hot words."
   ]
  },
  {
   "cell_type": "code",
   "execution_count": 16,
   "metadata": {},
   "outputs": [],
   "source": [
    "def is_hot_word(text, hot_words):\n",
    "    for word in hot_words:\n",
    "        if word in text:\n",
    "            return True\n",
    "    return False\n",
    "\n",
    "# Detect hot words in the transcriptions and save the filenames\n",
    "detected_filenames = []"
   ]
  },
  {
   "cell_type": "markdown",
   "metadata": {},
   "source": [
    "This is a failsafe that processes the `generated_text` column in the DataFrame to detect the presence of hot words while handling potential missing or non-string values. A new column, `detected`, is added to the DataFrame. It contains `True` for rows where the `generated_text` contains hot words, and `False` otherwise."
   ]
  },
  {
   "cell_type": "code",
   "execution_count": 17,
   "metadata": {},
   "outputs": [],
   "source": [
    "# Ensure that we handle missing or non-string values in the 'generated_text' column\n",
    "df['detected'] = df['generated_text'].apply(\n",
    "    lambda x: any(hw in str(x).lower() for hw in hot_words) if isinstance(x, str) else False\n",
    ")"
   ]
  },
  {
   "cell_type": "markdown",
   "metadata": {},
   "source": [
    "Filenames are then added to the list initialised earlier."
   ]
  },
  {
   "cell_type": "code",
   "execution_count": 18,
   "metadata": {},
   "outputs": [],
   "source": [
    "# Get filenames where hot words are detected\n",
    "detected_filenames = df[df['detected']]['filename'].tolist()"
   ]
  },
  {
   "cell_type": "markdown",
   "metadata": {},
   "source": [
    "### Saving of Detected Filenames\n",
    "\n",
    "The filenames of transcriptions containing hot words are then saved to a file named `detected.txt`."
   ]
  },
  {
   "cell_type": "code",
   "execution_count": 19,
   "metadata": {},
   "outputs": [
    {
     "name": "stdout",
     "output_type": "stream",
     "text": [
      "Detected filenames saved to detected.txt.\n"
     ]
    }
   ],
   "source": [
    "# Save detected filenames to detected.txt\n",
    "detected_path = os.path.join(\"detected.txt\")\n",
    "with open(detected_path, \"w\") as f:\n",
    "    for filename in detected_filenames:\n",
    "        f.write(f\"{filename}\\n\")\n",
    "\n",
    "print(f\"Detected filenames saved to {detected_path}.\")"
   ]
  }
 ],
 "metadata": {
  "kernelspec": {
   "display_name": "venv1",
   "language": "python",
   "name": "python3"
  },
  "language_info": {
   "codemirror_mode": {
    "name": "ipython",
    "version": 3
   },
   "file_extension": ".py",
   "mimetype": "text/x-python",
   "name": "python",
   "nbconvert_exporter": "python",
   "pygments_lexer": "ipython3",
   "version": "3.11.10"
  }
 },
 "nbformat": 4,
 "nbformat_minor": 2
}
